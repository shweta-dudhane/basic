{
  "nbformat": 4,
  "nbformat_minor": 0,
  "metadata": {
    "colab": {
      "provenance": [],
      "authorship_tag": "ABX9TyOYs+Jcc7GhLGJbHeb7rm9a",
      "include_colab_link": true
    },
    "kernelspec": {
      "name": "python3",
      "display_name": "Python 3"
    },
    "language_info": {
      "name": "python"
    }
  },
  "cells": [
    {
      "cell_type": "markdown",
      "metadata": {
        "id": "view-in-github",
        "colab_type": "text"
      },
      "source": [
        "<a href=\"https://colab.research.google.com/github/shweta-dudhane/basic/blob/main/pythonbasics.ipynb\" target=\"_parent\"><img src=\"https://colab.research.google.com/assets/colab-badge.svg\" alt=\"Open In Colab\"/></a>"
      ]
    },
    {
      "cell_type": "code",
      "execution_count": null,
      "metadata": {
        "colab": {
          "base_uri": "https://localhost:8080/"
        },
        "id": "mrixsUJk5c3K",
        "outputId": "7d71a46f-c371-4dfe-d2d4-dec44a49f1c0"
      },
      "outputs": [
        {
          "output_type": "stream",
          "name": "stdout",
          "text": [
            "hi this is me\n"
          ]
        }
      ],
      "source": [
        "print(\"hi this is me\")"
      ]
    },
    {
      "cell_type": "code",
      "source": [
        "#sample program to add 2 numbers"
      ],
      "metadata": {
        "id": "KtBfCfK_6aYR"
      },
      "execution_count": null,
      "outputs": []
    },
    {
      "cell_type": "code",
      "source": [
        "a=10\n",
        "b=20\n",
        "c=a+b\n",
        "print(\"sum=\",c)"
      ],
      "metadata": {
        "id": "49Ff5M_XDj5S",
        "colab": {
          "base_uri": "https://localhost:8080/"
        },
        "outputId": "73858686-40ac-4c89-a1c7-59b46d591598"
      },
      "execution_count": null,
      "outputs": [
        {
          "output_type": "stream",
          "name": "stdout",
          "text": [
            "sum= 30\n"
          ]
        }
      ]
    },
    {
      "cell_type": "code",
      "source": [],
      "metadata": {
        "id": "F6DQtiYxZRFh"
      },
      "execution_count": null,
      "outputs": []
    }
  ]
}